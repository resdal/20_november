{
  "nbformat": 4,
  "nbformat_minor": 0,
  "metadata": {
    "colab": {
      "name": "WS-codechallenge.ipynb",
      "provenance": [],
      "collapsed_sections": [],
      "authorship_tag": "ABX9TyPp73X9RPMGUe8yqNQL0L2E",
      "include_colab_link": true
    },
    "kernelspec": {
      "name": "python3",
      "display_name": "Python 3"
    },
    "language_info": {
      "name": "python"
    }
  },
  "cells": [
    {
      "cell_type": "markdown",
      "metadata": {
        "id": "view-in-github",
        "colab_type": "text"
      },
      "source": [
        "<a href=\"https://colab.research.google.com/github/resdal/20_november/blob/main/WS_codechallenge.ipynb\" target=\"_parent\"><img src=\"https://colab.research.google.com/assets/colab-badge.svg\" alt=\"Open In Colab\"/></a>"
      ]
    },
    {
      "cell_type": "code",
      "source": [
        "array = [10, -2, 4, 8, -5, 7, 3, 9, 13]\n",
        "k = 3\n",
        "n = len(array)\n",
        "\n",
        "# result =[]\n",
        "\n",
        "def sliding_window_max(a, b, c):\n",
        "    maxnum = 0\n",
        "   \n",
        "    for i in range(n - k + 1):\n",
        "        maxnum = array[i]\n",
        "        for j in range(1, k):\n",
        "            if array[i+j] > maxnum:\n",
        "                maxnum = array[i+j]\n",
        "        print(str(maxnum) + \" \", end = \"\")\n",
        "\n",
        "\n",
        "sliding_window_max(array, n, k)\n",
        " "
      ],
      "metadata": {
        "colab": {
          "base_uri": "https://localhost:8080/"
        },
        "id": "wCyOVJnev2Wu",
        "outputId": "4ac9d44f-4701-4e77-bbb1-0f8264db3acf"
      },
      "execution_count": 14,
      "outputs": [
        {
          "output_type": "stream",
          "name": "stdout",
          "text": [
            "10 8 8 8 7 9 13 "
          ]
        }
      ]
    },
    {
      "cell_type": "code",
      "source": [
        ""
      ],
      "metadata": {
        "id": "QfoD3pIxwTOT"
      },
      "execution_count": null,
      "outputs": []
    }
  ]
}