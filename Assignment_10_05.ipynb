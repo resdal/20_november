{
  "nbformat": 4,
  "nbformat_minor": 0,
  "metadata": {
    "colab": {
      "name": "Assignment 10/05.ipynb",
      "provenance": [],
      "authorship_tag": "ABX9TyPbZsUYkUTNuACSPtsTQMnC",
      "include_colab_link": true
    },
    "kernelspec": {
      "name": "python3",
      "display_name": "Python 3"
    },
    "language_info": {
      "name": "python"
    }
  },
  "cells": [
    {
      "cell_type": "markdown",
      "metadata": {
        "id": "view-in-github",
        "colab_type": "text"
      },
      "source": [
        "<a href=\"https://colab.research.google.com/github/resdal/20_november/blob/main/Assignment_10_05.ipynb\" target=\"_parent\"><img src=\"https://colab.research.google.com/assets/colab-badge.svg\" alt=\"Open In Colab\"/></a>"
      ]
    },
    {
      "cell_type": "code",
      "metadata": {
        "id": "o5igJRvDCkol"
      },
      "source": [
        "n1 = 1                      \n",
        "n2 = 1\n",
        "fibo_numbers = []\n",
        "\n",
        "while n1 <=55:\n",
        "  fibo_numbers.append(n1)\n",
        "  n1, n2 = n2, n1 + n2\n",
        "  \n",
        "print(fibo_numbers)"
      ],
      "execution_count": null,
      "outputs": []
    }
  ]
}